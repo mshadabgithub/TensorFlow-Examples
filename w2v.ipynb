{
  "nbformat": 4,
  "nbformat_minor": 0,
  "metadata": {
    "colab": {
      "name": "w2v",
      "provenance": [],
      "collapsed_sections": [],
      "authorship_tag": "ABX9TyNYPNUl5XugNskg0uFzjGTk",
      "include_colab_link": true
    },
    "kernelspec": {
      "name": "python3",
      "display_name": "Python 3"
    },
    "language_info": {
      "name": "python"
    }
  },
  "cells": [
    {
      "cell_type": "markdown",
      "metadata": {
        "id": "view-in-github",
        "colab_type": "text"
      },
      "source": [
        "<a href=\"https://colab.research.google.com/github/mshadabgithub/TensorFlow-Examples/blob/master/w2v.ipynb\" target=\"_parent\"><img src=\"https://colab.research.google.com/assets/colab-badge.svg\" alt=\"Open In Colab\"/></a>"
      ]
    },
    {
      "cell_type": "code",
      "metadata": {
        "colab": {
          "base_uri": "https://localhost:8080/",
          "height": 35
        },
        "id": "7oGiad1SD4SJ",
        "outputId": "1dd4fdd0-9c18-4935-8c08-2fc3e2d21ca3"
      },
      "source": [
        "import tensorflow as tf\n",
        "import numpy as np\n",
        "import re\n",
        "\n",
        "corpus_raw = \"I love python. It's amazing language to read:). Many data scientist prefer python over other languages. Any it is super easy to learn.\"\n",
        "corpus_raw = re.sub(r\"[,@\\'?\\.$%_]\", '', corpus_raw)\n",
        "\n",
        "corpus_raw = corpus_raw.lower()\n",
        "corpus_raw"
      ],
      "execution_count": null,
      "outputs": [
        {
          "output_type": "execute_result",
          "data": {
            "application/vnd.google.colaboratory.intrinsic+json": {
              "type": "string"
            },
            "text/plain": [
              "'i love python its amazing language to read:) many data scientist prefer python over other languages any it is super easy to learn'"
            ]
          },
          "metadata": {
            "tags": []
          },
          "execution_count": 2
        }
      ]
    },
    {
      "cell_type": "code",
      "metadata": {
        "id": "9i2TC40JBTAv"
      },
      "source": [
        "words = []\n",
        "for word in corpus_raw.split():\n",
        "    if word != '.': \n",
        "        words.append(word)\n",
        "\n",
        "words = set(words) # so that all duplicate words are removed\n",
        "word2int = {}\n",
        "int2word = {}\n",
        "vocab_size = len(words) \n",
        "\n",
        "for i,word in enumerate(words):\n",
        "    word2int[word] = i\n",
        "    int2word[i] = word"
      ],
      "execution_count": null,
      "outputs": []
    },
    {
      "cell_type": "code",
      "metadata": {
        "id": "utv_HLftBTb9"
      },
      "source": [
        "raw_sentences = corpus_raw.split('.')\n",
        "sentences = []\n",
        "for sentence in raw_sentences:\n",
        "    sentences.append(sentence.split())"
      ],
      "execution_count": null,
      "outputs": []
    },
    {
      "cell_type": "code",
      "metadata": {
        "id": "8k4dxRz8BTp4"
      },
      "source": [
        "WINDOW_SIZE = 2\n",
        "\n",
        "data = []\n",
        "for sentence in sentences:\n",
        "    for word_index, word in enumerate(sentence):\n",
        "        for nb_word in sentence[max(word_index - WINDOW_SIZE, 0) : min(word_index + WINDOW_SIZE, len(sentence)) + 1] : \n",
        "            if nb_word != word:\n",
        "                data.append([word, nb_word])"
      ],
      "execution_count": null,
      "outputs": []
    },
    {
      "cell_type": "code",
      "metadata": {
        "id": "JQKMZvwSBT2x"
      },
      "source": [
        "# function to convert numbers to one hot vectors\n",
        "def to_one_hot(data_point_index, vocab_size):\n",
        "    temp = np.zeros(vocab_size)\n",
        "    temp[data_point_index] = 1\n",
        "    return temp\n",
        "\n",
        "x_train = [] # input word\n",
        "y_train = [] # output word\n",
        "\n",
        "for data_word in data:\n",
        "    x_train.append(to_one_hot(word2int[ data_word[0] ], vocab_size))\n",
        "    y_train.append(to_one_hot(word2int[ data_word[1] ], vocab_size))"
      ],
      "execution_count": null,
      "outputs": []
    },
    {
      "cell_type": "code",
      "metadata": {
        "id": "LTqgaUb0BUDI"
      },
      "source": [
        "# convert them to numpy arrays\n",
        "x_train = np.asarray(x_train)\n",
        "y_train = np.asarray(y_train)"
      ],
      "execution_count": null,
      "outputs": []
    },
    {
      "cell_type": "code",
      "metadata": {
        "colab": {
          "base_uri": "https://localhost:8080/"
        },
        "id": "axhQgxxJCwq-",
        "outputId": "100acab5-9517-4abe-ed8a-5f415e760269"
      },
      "source": [
        "model = tf.keras.models.Sequential([\n",
        "                                    tf.keras.layers.Dense(x_train.shape[1], activation='relu')\n",
        "])\n",
        "\n",
        "model.compile(optimizer=\"adam\", loss=\"mse\", metrics=[\"mae\"])\n",
        "model.fit(x_train, y_train, epochs=20)"
      ],
      "execution_count": null,
      "outputs": [
        {
          "output_type": "stream",
          "text": [
            "Epoch 1/20\n",
            "3/3 [==============================] - 0s 4ms/step - loss: 0.0616 - mae: 0.1320\n",
            "Epoch 2/20\n",
            "3/3 [==============================] - 0s 3ms/step - loss: 0.0612 - mae: 0.1299\n",
            "Epoch 3/20\n",
            "3/3 [==============================] - 0s 4ms/step - loss: 0.0594 - mae: 0.1260\n",
            "Epoch 4/20\n",
            "3/3 [==============================] - 0s 3ms/step - loss: 0.0604 - mae: 0.1261\n",
            "Epoch 5/20\n",
            "3/3 [==============================] - 0s 4ms/step - loss: 0.0600 - mae: 0.1246\n",
            "Epoch 6/20\n",
            "3/3 [==============================] - 0s 3ms/step - loss: 0.0589 - mae: 0.1214\n",
            "Epoch 7/20\n",
            "3/3 [==============================] - 0s 3ms/step - loss: 0.0570 - mae: 0.1185\n",
            "Epoch 8/20\n",
            "3/3 [==============================] - 0s 2ms/step - loss: 0.0576 - mae: 0.1179\n",
            "Epoch 9/20\n",
            "3/3 [==============================] - 0s 3ms/step - loss: 0.0566 - mae: 0.1159\n",
            "Epoch 10/20\n",
            "3/3 [==============================] - 0s 2ms/step - loss: 0.0562 - mae: 0.1144\n",
            "Epoch 11/20\n",
            "3/3 [==============================] - 0s 3ms/step - loss: 0.0548 - mae: 0.1115\n",
            "Epoch 12/20\n",
            "3/3 [==============================] - 0s 2ms/step - loss: 0.0548 - mae: 0.1117\n",
            "Epoch 13/20\n",
            "3/3 [==============================] - 0s 3ms/step - loss: 0.0545 - mae: 0.1101\n",
            "Epoch 14/20\n",
            "3/3 [==============================] - 0s 3ms/step - loss: 0.0537 - mae: 0.1084\n",
            "Epoch 15/20\n",
            "3/3 [==============================] - 0s 3ms/step - loss: 0.0532 - mae: 0.1058\n",
            "Epoch 16/20\n",
            "3/3 [==============================] - 0s 3ms/step - loss: 0.0528 - mae: 0.1049\n",
            "Epoch 17/20\n",
            "3/3 [==============================] - 0s 4ms/step - loss: 0.0517 - mae: 0.1029\n",
            "Epoch 18/20\n",
            "3/3 [==============================] - 0s 3ms/step - loss: 0.0525 - mae: 0.1027\n",
            "Epoch 19/20\n",
            "3/3 [==============================] - 0s 3ms/step - loss: 0.0518 - mae: 0.1005\n",
            "Epoch 20/20\n",
            "3/3 [==============================] - 0s 4ms/step - loss: 0.0518 - mae: 0.1005\n"
          ],
          "name": "stdout"
        },
        {
          "output_type": "execute_result",
          "data": {
            "text/plain": [
              "<tensorflow.python.keras.callbacks.History at 0x7f4ca7a37c10>"
            ]
          },
          "metadata": {
            "tags": []
          },
          "execution_count": 8
        }
      ]
    },
    {
      "cell_type": "code",
      "metadata": {
        "id": "frBv5gM9CxFq"
      },
      "source": [
        "w = model.predict(x_train)"
      ],
      "execution_count": null,
      "outputs": []
    },
    {
      "cell_type": "code",
      "metadata": {
        "colab": {
          "base_uri": "https://localhost:8080/"
        },
        "id": "Cd0v3yBUQJbD",
        "outputId": "011b701c-30be-4d53-8e3a-2e16e3586a72"
      },
      "source": [
        "def eucli_dist(w1, w2):\n",
        "  return np.sqrt(np.sum(w1-w2)**2)\n",
        "  \n",
        "w[word_index]"
      ],
      "execution_count": null,
      "outputs": [
        {
          "output_type": "execute_result",
          "data": {
            "text/plain": [
              "array([0.        , 0.        , 0.08269319, 0.        , 0.12133045,\n",
              "       0.17416593, 0.06076346, 0.15377396, 0.        , 0.        ,\n",
              "       0.        , 0.15339412, 0.        , 0.02967604, 0.        ,\n",
              "       0.        , 0.        , 0.25190252, 0.12718289, 0.        ,\n",
              "       0.11434083], dtype=float32)"
            ]
          },
          "metadata": {
            "tags": []
          },
          "execution_count": 10
        }
      ]
    },
    {
      "cell_type": "code",
      "metadata": {
        "id": "i4xoQjQYQJgc"
      },
      "source": [
        "def find_closest(word_index, w):\n",
        "  min_dist = 10000\n",
        "  min_index = -1\n",
        "  q_w = w[word_index]\n",
        "  for index, vector in enumerate(w):\n",
        "    if eucli_dist(vector, q_w) < min_dist and not np.array_equal(vector, q_w):\n",
        "      min_dist = eucli_dist(vector, q_w)\n",
        "      min_index = index\n",
        "  return min_index"
      ],
      "execution_count": null,
      "outputs": []
    },
    {
      "cell_type": "code",
      "metadata": {
        "id": "-Pc-C_VjCxTa"
      },
      "source": [
        "from sklearn.manifold import TSNE\n",
        "\n",
        "model = TSNE(n_components=2, random_state=0)\n",
        "np.set_printoptions(suppress=True)\n",
        "vectors = model.fit_transform(w) \n",
        "\n",
        "from sklearn import preprocessing"
      ],
      "execution_count": null,
      "outputs": []
    },
    {
      "cell_type": "code",
      "metadata": {
        "colab": {
          "base_uri": "https://localhost:8080/"
        },
        "id": "vx0JlK78kBCL",
        "outputId": "0de9b8e0-18ce-45a5-ec2f-14caf8a68348"
      },
      "source": [
        "normalizer = preprocessing.Normalizer()\n",
        "vectors =  normalizer.fit_transform(vectors, 'l2')\n",
        "\n",
        "print(vectors)\n",
        "\n",
        "import matplotlib.pyplot as plt"
      ],
      "execution_count": null,
      "outputs": [
        {
          "output_type": "stream",
          "text": [
            "[[-0.12271661  0.9924417 ]\n",
            " [-0.04339222  0.9990581 ]\n",
            " [ 0.8385749   0.5447864 ]\n",
            " [ 0.8916482   0.45272902]\n",
            " [ 0.8923825   0.45127973]\n",
            " [-0.08174478 -0.99665326]\n",
            " [ 0.0031625  -0.999995  ]\n",
            " [ 0.18327025 -0.98306257]\n",
            " [ 0.26672047 -0.9637739 ]\n",
            " [-0.49686888 -0.8678257 ]\n",
            " [-0.44727334 -0.8943973 ]\n",
            " [-0.40301472 -0.9151935 ]\n",
            " [-0.54633653 -0.8375658 ]\n",
            " [-0.9828981  -0.18415004]\n",
            " [-0.9999961   0.00278735]\n",
            " [-0.9828687  -0.18430732]\n",
            " [-0.99971825 -0.02373799]\n",
            " [-0.34336805  0.93920094]\n",
            " [-0.49385798  0.8695426 ]\n",
            " [-0.28650624  0.9580783 ]\n",
            " [-0.10095912  0.9948906 ]\n",
            " [ 0.7778446   0.6284566 ]\n",
            " [ 0.92052335  0.39068756]\n",
            " [ 0.5887035   0.8083491 ]\n",
            " [ 0.88718915  0.46140587]\n",
            " [ 0.9374371  -0.34815454]\n",
            " [ 0.9336927  -0.35807532]\n",
            " [ 0.9049807  -0.4254524 ]\n",
            " [ 0.96091145 -0.27685592]\n",
            " [ 0.04286769  0.9990807 ]\n",
            " [ 0.17555037  0.9844705 ]\n",
            " [ 0.30692387  0.95173407]\n",
            " [ 0.17729999  0.98415685]\n",
            " [ 0.65846586  0.75261056]\n",
            " [-0.09087534  0.99586225]\n",
            " [ 0.28954804  0.95716345]\n",
            " [ 0.30101925  0.95361805]\n",
            " [-0.86335796  0.504592  ]\n",
            " [-0.8547853   0.5189819 ]\n",
            " [-0.8034227   0.59540915]\n",
            " [-0.90492994  0.42556053]\n",
            " [ 0.6890637  -0.7247008 ]\n",
            " [ 0.41187733 -0.9112394 ]\n",
            " [ 0.62296563 -0.7822492 ]\n",
            " [ 0.5236599  -0.85192734]\n",
            " [-0.105964   -0.9943699 ]\n",
            " [ 0.07169359 -0.99742675]\n",
            " [ 0.18474351 -0.9827868 ]\n",
            " [ 0.04510422 -0.99898225]\n",
            " [-0.5454322   0.8381549 ]\n",
            " [-0.5401558   0.841565  ]\n",
            " [-0.4352718   0.9002991 ]\n",
            " [-0.6390057   0.76920205]\n",
            " [-0.92522335  0.37942293]\n",
            " [-0.8528768   0.5221123 ]\n",
            " [-0.8229416   0.568126  ]\n",
            " [ 0.89985526 -0.43618864]\n",
            " [-0.30138817 -0.95350146]\n",
            " [-0.640142   -0.76825655]\n",
            " [-0.07792775 -0.99695903]\n",
            " [-0.6090617  -0.7931228 ]\n",
            " [ 0.99859774 -0.05293886]\n",
            " [ 0.99948967  0.03194382]\n",
            " [ 0.9869265   0.1611712 ]\n",
            " [ 0.9975517   0.06993348]\n",
            " [ 0.35652375  0.9342863 ]\n",
            " [ 0.466647    0.8844436 ]\n",
            " [ 0.44553885  0.8952626 ]\n",
            " [ 0.34566683  0.9383573 ]\n",
            " [ 0.69697374 -0.7170966 ]\n",
            " [ 0.7251337  -0.68860817]\n",
            " [ 0.5945535  -0.8040561 ]\n",
            " [ 0.6108292  -0.7917624 ]\n",
            " [-0.48980412 -0.8718325 ]\n",
            " [-0.53364104 -0.8457111 ]\n",
            " [-0.677876   -0.73517627]\n",
            " [-0.6686056  -0.74361724]\n",
            " [-0.9756713   0.21923836]\n",
            " [-0.9339359   0.35744053]\n",
            " [-0.99994415 -0.01056399]\n",
            " [-0.86219895  0.5065698 ]\n",
            " [ 0.78209376  0.62316084]\n",
            " [ 0.7756354   0.6311812 ]\n",
            " [ 0.6359467   0.77173305]\n",
            " [ 0.9331926  -0.35937658]\n",
            " [ 0.95406425 -0.29960218]]\n"
          ],
          "name": "stdout"
        }
      ]
    },
    {
      "cell_type": "code",
      "metadata": {
        "colab": {
          "base_uri": "https://localhost:8080/",
          "height": 731
        },
        "id": "LuVXG7OUkBFL",
        "outputId": "c2acf392-82ba-4482-a673-4e835c15af6c"
      },
      "source": [
        "fig, ax = plt.subplots(figsize=(20,5))\n",
        "print(words)\n",
        "for word in words:\n",
        "    print(word, vectors[word2int[word]][1])\n",
        "    ax.annotate(word, (vectors[word2int[word]][0],vectors[word2int[word]][1] ))\n",
        "    ax.set_xlim(min([vectors[word2int[w]][0] for w in words])-1, max([vectors[word2int[w]][0] for w in words])+1)\n",
        "    ax.set_ylim(min([vectors[word2int[w]][1] for w in words])-1, max([vectors[word2int[w]][1] for w in words])+1)\n",
        "plt.show()"
      ],
      "execution_count": null,
      "outputs": [
        {
          "output_type": "stream",
          "text": [
            "{'love', 'it', 'languages', 'super', 'easy', 'scientist', 'other', 'python', 'many', 'learn', 'read:)', 'over', 'prefer', 'i', 'amazing', 'its', 'to', 'data', 'is', 'any', 'language'}\n",
            "love 0.9924417\n",
            "it 0.9990581\n",
            "languages 0.5447864\n",
            "super 0.45272902\n",
            "easy 0.45127973\n",
            "scientist -0.99665326\n",
            "other -0.999995\n",
            "python -0.98306257\n",
            "many -0.9637739\n",
            "learn -0.8678257\n",
            "read:) -0.8943973\n",
            "over -0.9151935\n",
            "prefer -0.8375658\n",
            "i -0.18415004\n",
            "amazing 0.00278735\n",
            "its -0.18430732\n",
            "to -0.023737986\n",
            "data 0.93920094\n",
            "is 0.8695426\n",
            "any 0.9580783\n",
            "language 0.9948906\n"
          ],
          "name": "stdout"
        },
        {
          "output_type": "display_data",
          "data": {
            "image/png": "[encoded data removed]",
            "text/plain": [
              "<Figure size 1440x360 with 1 Axes>"
            ]
          },
          "metadata": {
            "tags": [],
            "needs_background": "light"
          }
        }
      ]
    }
  ]
}